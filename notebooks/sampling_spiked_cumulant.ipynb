{
 "cells": [
  {
   "cell_type": "code",
   "execution_count": 1,
   "id": "b50b9d6d",
   "metadata": {},
   "outputs": [],
   "source": [
    "import numpy as np\n",
    "import matplotlib.pyplot as plt\n",
    "import numpy.random as rnd"
   ]
  },
  {
   "cell_type": "code",
   "execution_count": 36,
   "id": "39ca1cdc",
   "metadata": {},
   "outputs": [],
   "source": [
    "import numpy as np\n",
    "\n",
    "def sample_spiked_cumulant(spike_vector: np.ndarray, n_points: int, snr: float) -> np.ndarray:\n",
    "    \"\"\"\n",
    "    Generate samples from a spiked covariance model.\n",
    "\n",
    "    Parameters\n",
    "    ----------\n",
    "    spike_vector : np.ndarray, shape (d,)\n",
    "        The d-dimensional spike direction (must be unit-norm).\n",
    "    n_points : int\n",
    "        Number of samples (columns) to generate.\n",
    "    snr : float\n",
    "        Signal-to-noise ratio in [0, 1].\n",
    "\n",
    "    Returns\n",
    "    -------\n",
    "    np.ndarray\n",
    "        Matrix of shape (d, n_points) containing the generated samples.\n",
    "\n",
    "    Notes\n",
    "    -----\n",
    "    The model is:\n",
    "        X = Z + snr * (u ⊗ h) + (sqrt(1 - snr**2) - 1) * (u uᵀ Z)\n",
    "    where:\n",
    "        - Z ~ N(0, I) are Gaussian noise samples,\n",
    "        - h ∈ {−1, +1}^n_points are Rademacher latent variables,\n",
    "        - u is the spike_vector.\n",
    "    \"\"\"\n",
    "    # Check that spike_vector is approximately unit-norm\n",
    "    norm_u = np.linalg.norm(spike_vector)\n",
    "    if not np.isclose(norm_u, 1.0, atol=1e-6):\n",
    "        raise ValueError(f\"spike_vector must have unit norm (‖u‖ ≈ 1), got {norm_u:.6f}\")\n",
    "\n",
    "    # Basic input validation\n",
    "    if not (0 <= snr <= 1):\n",
    "        raise ValueError(f\"SNR must be between 0 and 1, got {snr}\")\n",
    "\n",
    "    d = spike_vector.shape[0]\n",
    "    x = np.random.randn(d, n_points)  # Gaussian noise\n",
    "    h = np.sign(np.random.randn(n_points))  # Random ±1 signs\n",
    "\n",
    "    # Construct spike and whitening terms\n",
    "    spike_term = np.outer(spike_vector, h)\n",
    "    whitening_term = spike_vector[:, None] @ (spike_vector[None, :] @ x)\n",
    "\n",
    "    # Apply SNR and sum\n",
    "    x += snr * spike_term + (np.sqrt(1 - snr**2) - 1) * whitening_term\n",
    "\n",
    "    return x\n"
   ]
  },
  {
   "cell_type": "code",
   "execution_count": 37,
   "id": "b3a35a49",
   "metadata": {},
   "outputs": [
    {
     "data": {
      "text/plain": [
       "1.0011888787953855"
      ]
     },
     "execution_count": 37,
     "metadata": {},
     "output_type": "execute_result"
    }
   ],
   "source": [
    "u=np.zeros(10)\n",
    "u[0]=1\n",
    "X=sample_spiked_cumulant(u,10000,.9)\n",
    "X[0,:].var()"
   ]
  },
  {
   "cell_type": "code",
   "execution_count": 38,
   "id": "e96c51ee",
   "metadata": {},
   "outputs": [
    {
     "data": {
      "image/png": "[encoded data removed]",
      "text/plain": [
       "<Figure size 640x480 with 1 Axes>"
      ]
     },
     "metadata": {},
     "output_type": "display_data"
    }
   ],
   "source": [
    "plt.hist(X[1,:],bins=30)\n",
    "plt.hist(X[0,:],bins=30,alpha=.7)\n",
    "plt.show()"
   ]
  }
 ],
 "metadata": {
  "kernelspec": {
   "display_name": ".venv",
   "language": "python",
   "name": "python3"
  },
  "language_info": {
   "codemirror_mode": {
    "name": "ipython",
    "version": 3
   },
   "file_extension": ".py",
   "mimetype": "text/x-python",
   "name": "python",
   "nbconvert_exporter": "python",
   "pygments_lexer": "ipython3",
   "version": "3.12.3"
  }
 },
 "nbformat": 4,
 "nbformat_minor": 5
}
