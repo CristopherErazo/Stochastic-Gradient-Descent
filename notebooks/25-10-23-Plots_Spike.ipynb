{
 "cells": [
  {
   "cell_type": "code",
   "execution_count": 1,
   "id": "55c649db",
   "metadata": {},
   "outputs": [],
   "source": [
    "# Package imports\n",
    "from SGD.dynamics import Trainer\n",
    "from SGD.data import DataGenerator , SpikeGenerator\n",
    "from SGD.plot_config import *\n",
    "from SGD.utils import initialize_weights , make_params_dict , save_fig , save_data , load_data , make_data_paths\n",
    "\n",
    "# Libraries\n",
    "import numpy as np\n",
    "import matplotlib.pyplot as plt\n",
    "import time\n",
    "\n",
    "# Plot styles\n",
    "apply_general_styles()"
   ]
  },
  {
   "cell_type": "markdown",
   "id": "889156ca",
   "metadata": {},
   "source": [
    "# Simple Example"
   ]
  },
  {
   "cell_type": "code",
   "execution_count": 8,
   "id": "7b872caa",
   "metadata": {},
   "outputs": [
    {
     "name": "stdout",
     "output_type": "stream",
     "text": [
      "Starting training...\n"
     ]
    },
    {
     "name": "stderr",
     "output_type": "stream",
     "text": [
      "100%|██████████| 1280000/1280000 [00:44<00:00, 28814.58it/s]"
     ]
    },
    {
     "name": "stdout",
     "output_type": "stream",
     "text": [
      "End training... Took = 0.7404 min\n",
      "File saved with pickle.dump on ../data\\ as test_d40_snr0.9.pkl\n",
      "File test_d40_snr0.9.pkl loaded with pickle.load from ../data\\\n"
     ]
    },
    {
     "name": "stderr",
     "output_type": "stream",
     "text": [
      "\n"
     ]
    }
   ],
   "source": [
    "# Minimal Parameters\n",
    "d = 40\n",
    "spike = True\n",
    "snr = 0.9\n",
    "teacher = 'He4'\n",
    "student = 'He4'\n",
    "loss = 'corr'\n",
    "lr = 0.001\n",
    "N_steps = int(20*d**3)\n",
    "\n",
    "# Initialize weights\n",
    "u_spike, w_initial = initialize_weights(d,m0=0.0,mode='fixed')\n",
    "\n",
    "# Initialize data generator\n",
    "data_generator = SpikeGenerator(d,u_spike,snr) if spike else DataGenerator(d, teacher, u_spike)\n",
    "\n",
    "# Initialize Trainer\n",
    "trainer = Trainer(d, u_spike, student, loss, lr, data_generator)\n",
    "\n",
    "# Save data\n",
    "tprints = np.unique(np.logspace(-0.1,np.log10(N_steps),100).astype(int))\n",
    "data = {'overlap':[],'times':tprints}\n",
    "\n",
    "# Run evolution\n",
    "t0 = time.time()\n",
    "print(\"Starting training...\")\n",
    "for step, (w_student, flag , grad) in enumerate(trainer.evolution(w_initial, N_steps, progress=True)):\n",
    "    if step in tprints: # Save some steps\n",
    "        data['overlap'].append(w_student @ u_spike)\n",
    "\n",
    "dt = time.time() - t0\n",
    "print(f\"End training... Took = {dt/60:.4} min\")\n",
    "\n",
    "# Optional Step\n",
    "for key in data:\n",
    "    data[key] = np.array(data[key])\n",
    "\n",
    "# Save data\n",
    "name_vars = ['d','snr']\n",
    "params = make_params_dict(name_vars)\n",
    "save_data(data,file_name='test',params=params,base_dir='../data')\n",
    "\n",
    "# Load data\n",
    "data_loaded = load_data(file_name='test',params=params)"
   ]
  },
  {
   "cell_type": "code",
   "execution_count": 10,
   "id": "892b845c",
   "metadata": {},
   "outputs": [
    {
     "name": "stdout",
     "output_type": "stream",
     "text": [
      "Figure saved on ../plots\\ as test_d40_snr0.9.png\n"
     ]
    },
    {
     "data": {
      "image/png": "[encoded data removed]",
      "text/plain": [
       "<Figure size 525x262.5 with 1 Axes>"
      ]
     },
     "metadata": {},
     "output_type": "display_data"
    }
   ],
   "source": [
    "# Other variables\n",
    "col = pc_colors[0]\n",
    "xtk = [d**i for i in range(4)]\n",
    "xlb = [rf'$d^{i}$' for i in range(4)]\n",
    "\n",
    "# Create figure and plot and font setup\n",
    "set_font_sizes('normal')\n",
    "fig , axes = create_fig()\n",
    "ax = axes\n",
    "ax.plot(data_loaded['times'][1:],data_loaded['overlap'],color=col,lw=1)\n",
    "ax.set_xscale('log')\n",
    "ax.set_xticks(xtk,xlb)\n",
    "\n",
    "# Save figure\n",
    "save_fig(fig, file_name='test', params=params)"
   ]
  },
  {
   "cell_type": "markdown",
   "id": "11f35332",
   "metadata": {},
   "source": [
    "# Plot spiked trajectories"
   ]
  },
  {
   "cell_type": "code",
   "execution_count": 4,
   "id": "9c1753e4",
   "metadata": {},
   "outputs": [
    {
     "name": "stdout",
     "output_type": "stream",
     "text": [
      "dict_keys(['overlap', 'times', 'params'])\n"
     ]
    }
   ],
   "source": [
    "# Load the data\n",
    "\n",
    "# Parameters fixed\n",
    "d = 100\n",
    "alpha = 70.0\n",
    "snr = 0.9\n",
    "spike = True\n",
    "\n",
    "# Parameter lists\n",
    "modes = ['online','repeat']\n",
    "losses = ['mse','corr']\n",
    "students = ['relu','tanh']\n",
    "lrs = [0.01 , 0.05 , 0.1 , 0.5]\n",
    "\n",
    "# Parameters saved\n",
    "names_fixed = ['d','snr','alpha']\n",
    "names_variable = ['mode','loss','student','lr']\n",
    "\n",
    "# Load the variables\n",
    "data = {}\n",
    "for mode in modes:\n",
    "    data[mode] = {}\n",
    "    for loss in losses:\n",
    "        data[mode][loss] = {}\n",
    "        for student in students:\n",
    "            data[mode][loss][student] = {}\n",
    "            for lr in lrs:\n",
    "                params = make_params_dict(names_fixed,names_variable)\n",
    "                x = load_data(file_name='overlap',experiment_name='test_spike',params=params,show=False)\n",
    "                data[mode][loss][student][lr] = x\n",
    "\n",
    "print(x.keys())"
   ]
  },
  {
   "cell_type": "code",
   "execution_count": 17,
   "id": "c656aa76",
   "metadata": {},
   "outputs": [
    {
     "name": "stdout",
     "output_type": "stream",
     "text": [
      "Figure saved on ../plots\\2025-10 as spiked_evolution_alpha70_d100_lossmse_modeonline_snr0.9.png\n"
     ]
    },
    {
     "data": {
      "image/png": "[encoded data removed]",
      "text/plain": [
       "<Figure size 525x367.5 with 8 Axes>"
      ]
     },
     "metadata": {},
     "output_type": "display_data"
    }
   ],
   "source": [
    "# Other variables\n",
    "N_walkers = x['params']['N_walkers']\n",
    "mode = 'online'\n",
    "loss = 'mse'\n",
    "\n",
    "cols = plt.get_cmap(pc_cmaps[0])(np.linspace(0,1,N_walkers))\n",
    "xtk = [d**i for i in range(5)]\n",
    "xlb = [rf'$d^{i}$' for i in range(5)]\n",
    "\n",
    "# Create figure and plot and font setup\n",
    "set_font_sizes('tight')\n",
    "fig , axes = create_fig(nrows=len(lrs),ncols=len(students),h=0.7,sharey=True)\n",
    "\n",
    "for i , lr in enumerate(lrs):\n",
    "    for j , student in enumerate(students):\n",
    "        ax = axes[i,j]\n",
    "        # Setupd\n",
    "        if i == 0 : ax.set_title(fr'$\\sigma = $ {student}')\n",
    "        if j == 0 : ax.set_ylabel(fr'$\\eta = {lr}$',fontsize=FONTSIZES['s'])\n",
    "\n",
    "        # Get data and plot\n",
    "        T = data[mode][loss][student][lr]['times']\n",
    "        m = data[mode][loss][student][lr]['overlap']\n",
    "        for w in range(N_walkers):\n",
    "            ax.plot(T,m[:,w],color=cols[w])\n",
    "\n",
    "        # Change scale\n",
    "        ax.set_xscale('log')\n",
    "        ax.set_xticks(xtk,xlb)\n",
    "        \n",
    "\n",
    "# Save figure\n",
    "names = ['mode','loss','d','snr','alpha']\n",
    "params = make_params_dict(names)\n",
    "save_fig(fig, file_name='spiked_evolution', params=params,date=True)"
   ]
  }
 ],
 "metadata": {
  "kernelspec": {
   "display_name": ".venv",
   "language": "python",
   "name": "python3"
  },
  "language_info": {
   "codemirror_mode": {
    "name": "ipython",
    "version": 3
   },
   "file_extension": ".py",
   "mimetype": "text/x-python",
   "name": "python",
   "nbconvert_exporter": "python",
   "pygments_lexer": "ipython3",
   "version": "3.12.3"
  }
 },
 "nbformat": 4,
 "nbformat_minor": 5
}
